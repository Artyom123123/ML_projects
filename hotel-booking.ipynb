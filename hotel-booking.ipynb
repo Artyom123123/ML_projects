{
 "cells": [
  {
   "cell_type": "code",
   "execution_count": 1,
   "id": "3d39d788",
   "metadata": {},
   "outputs": [],
   "source": [
    "import pandas as pd\n",
    "import seaborn as sns\n",
    "import matplotlib.pyplot as plt\n",
    "from sklearn.metrics import accuracy_score, precision_score, recall_score\n",
    "from imblearn.over_sampling import RandomOverSampler\n",
    "from imblearn.over_sampling import SMOTE\n",
    "from sklearn.model_selection import train_test_split\n",
    "from sklearn import preprocessing\n",
    "\n",
    "from sklearn.linear_model import LogisticRegression"
   ]
  },
  {
   "cell_type": "code",
   "execution_count": 5,
   "id": "091059a5",
   "metadata": {},
   "outputs": [],
   "source": [
    "train = pd.read_csv(\"/Users/ar.galanin/Documents/coding/DataScience/hotel-booking-demand-3/train_final.csv\")\n"
   ]
  },
  {
   "cell_type": "code",
   "execution_count": 3,
   "id": "e704edc1",
   "metadata": {},
   "outputs": [],
   "source": [
    "test = pd.read_csv(\"/Users/ar.galanin/Documents/coding/DataScience/hotel-booking-demand-3/test_final.csv\")\n"
   ]
  },
  {
   "cell_type": "code",
   "execution_count": 11,
   "id": "3df14f45",
   "metadata": {},
   "outputs": [
    {
     "data": {
      "text/plain": [
       "0    31354\n",
       "1    13284\n",
       "Name: is_canceled, dtype: int64"
      ]
     },
     "execution_count": 11,
     "metadata": {},
     "output_type": "execute_result"
    }
   ],
   "source": [
    "train['is_canceled'].value_counts()"
   ]
  },
  {
   "cell_type": "code",
   "execution_count": 6,
   "id": "47ec067b",
   "metadata": {},
   "outputs": [],
   "source": [
    "train = train.drop(columns=['reservation_status_date', 'country', 'assigned_room_type', 'reserved_room_type'])\n",
    "test = test.drop(columns=['reservation_status_date', 'country', 'assigned_room_type', 'reserved_room_type'])"
   ]
  },
  {
   "cell_type": "code",
   "execution_count": 7,
   "id": "1c0dd5d1",
   "metadata": {},
   "outputs": [],
   "source": [
    "# кодировка категориальных признаков \n",
    "from sklearn import preprocessing\n",
    "for column in list(train.loc[:, train.dtypes == object].columns):\n",
    "    label_encoder = preprocessing.LabelEncoder()\n",
    "    label_encoder.fit(train[column])\n",
    "    train[column] = label_encoder.transform(train[column])\n",
    "    test[column] = label_encoder.transform(test[column])"
   ]
  },
  {
   "cell_type": "code",
   "execution_count": 8,
   "id": "9a45fd96",
   "metadata": {},
   "outputs": [],
   "source": [
    "# Обучение модели\n",
    "X = train.drop(columns=['is_canceled'])\n",
    "y = train['is_canceled']"
   ]
  },
  {
   "cell_type": "code",
   "execution_count": 9,
   "id": "b5ff73f3",
   "metadata": {},
   "outputs": [
    {
     "name": "stdout",
     "output_type": "stream",
     "text": [
      "Accuracy: 0.8242980884109916\n"
     ]
    }
   ],
   "source": [
    "X_train, X_test, y_train, y_test = train_test_split(X, y, test_size=0.3)\n",
    "lg = LogisticRegression(solver='lbfgs', max_iter=10000)\n",
    "\n",
    "lg.fit(X_train, y_train)\n",
    "\n",
    "y_pred = lg.predict(X_test)\n",
    "print(f'Accuracy: {accuracy_score(y_test, y_pred)}')"
   ]
  },
  {
   "cell_type": "code",
   "execution_count": 10,
   "id": "572772b4",
   "metadata": {},
   "outputs": [],
   "source": [
    "# Предсказание результатов\n",
    "y_pred_test = lg.predict(test)\n",
    "y_pred_test = pd.DataFrame(y_pred_test, columns=['is_canceled'])\n",
    "y_pred_test = y_pred_test.reset_index()\n",
    "\n",
    "y_pred_test.to_csv(\"solution.csv\", index=False)"
   ]
  },
  {
   "cell_type": "code",
   "execution_count": 110,
   "id": "bd3d26d9",
   "metadata": {},
   "outputs": [
    {
     "data": {
      "text/html": [
       "<a href='solution.csv' target='_blank'>solution.csv</a><br>"
      ],
      "text/plain": [
       "/Users/ar.galanin/Documents/coding/DataScience/hotel-booking-demand-3/solution.csv"
      ]
     },
     "execution_count": 110,
     "metadata": {},
     "output_type": "execute_result"
    }
   ],
   "source": [
    "from IPython import display\n",
    "\n",
    "# Создание ссылки для скачивания файла\n",
    "display.FileLink(\"solution.csv\")"
   ]
  }
 ],
 "metadata": {
  "kernelspec": {
   "display_name": "Python 3 (ipykernel)",
   "language": "python",
   "name": "python3"
  },
  "language_info": {
   "codemirror_mode": {
    "name": "ipython",
    "version": 3
   },
   "file_extension": ".py",
   "mimetype": "text/x-python",
   "name": "python",
   "nbconvert_exporter": "python",
   "pygments_lexer": "ipython3",
   "version": "3.11.4"
  }
 },
 "nbformat": 4,
 "nbformat_minor": 5
}
