{
 "cells": [
  {
   "cell_type": "code",
   "execution_count": 2,
   "id": "6a95a2d1",
   "metadata": {},
   "outputs": [],
   "source": [
    "# Импортируем библиотеки\n",
    "import pandas as pd\n",
    "import seaborn as sns\n",
    "import matplotlib.pyplot as plt\n",
    "from IPython import display\n",
    "from sklearn.linear_model import LinearRegression\n",
    "from sklearn.metrics import mean_absolute_error, mean_squared_error, r2_score\n",
    "from sklearn.linear_model import Ridge\n",
    "from sklearn.model_selection import train_test_split"
   ]
  },
  {
   "cell_type": "code",
   "execution_count": 3,
   "id": "26e96118",
   "metadata": {},
   "outputs": [],
   "source": [
    "# Считывам данные\n",
    "train = pd.read_csv(\"/Users/ar.galanin/Documents/coding/DataScience/critical-temperature-of-superconductors/train.csv\")\n",
    "formula_train = pd.read_csv(\"/Users/ar.galanin/Documents/coding/DataScience/critical-temperature-of-superconductors/formula_train.csv\")"
   ]
  },
  {
   "cell_type": "code",
   "execution_count": 6,
   "id": "fa126c1f",
   "metadata": {},
   "outputs": [],
   "source": [
    "test = pd.read_csv(\"/Users/ar.galanin/Documents/coding/DataScience/critical-temperature-of-superconductors/test.csv\")\n",
    "formula_test = pd.read_csv(\"/Users/ar.galanin/Documents/coding/DataScience/critical-temperature-of-superconductors/formula_test.csv\")"
   ]
  },
  {
   "cell_type": "code",
   "execution_count": 9,
   "id": "409c4c26",
   "metadata": {},
   "outputs": [],
   "source": [
    "formula_train = formula_train.drop(columns = ['critical_temp'])\n",
    "formula_train = formula_train.drop(columns = ['material'])\n"
   ]
  },
  {
   "cell_type": "code",
   "execution_count": 101,
   "id": "81478699",
   "metadata": {},
   "outputs": [],
   "source": [
    "train_full = pd.concat([train, formula_train], axis=1)"
   ]
  },
  {
   "cell_type": "code",
   "execution_count": 12,
   "id": "56f24391",
   "metadata": {},
   "outputs": [],
   "source": [
    "X = train_full.drop(columns=['critical_temp'])\n",
    "y = train_full['critical_temp']"
   ]
  },
  {
   "cell_type": "code",
   "execution_count": 13,
   "id": "12c3efb6",
   "metadata": {},
   "outputs": [
    {
     "name": "stdout",
     "output_type": "stream",
     "text": [
      "Features shape: (17010, 167)\n",
      "Target shape: (17010,)\n"
     ]
    }
   ],
   "source": [
    "print(f\"Features shape: {X.shape}\")\n",
    "print(f\"Target shape: {y.shape}\")"
   ]
  },
  {
   "cell_type": "code",
   "execution_count": 309,
   "id": "ce540d56",
   "metadata": {},
   "outputs": [],
   "source": [
    "test_full = pd.concat([test, formula_test], axis=1)\n"
   ]
  },
  {
   "cell_type": "code",
   "execution_count": 310,
   "id": "d74293a8",
   "metadata": {},
   "outputs": [],
   "source": [
    "test_full.drop(columns=['material'], inplace=True)"
   ]
  },
  {
   "cell_type": "code",
   "execution_count": 307,
   "id": "308b5e7d",
   "metadata": {},
   "outputs": [
    {
     "name": "stdout",
     "output_type": "stream",
     "text": [
      "Mean Absolute Error: 12.273158385738572\n",
      "Mean Squared Error: 268.6036705942529\n"
     ]
    }
   ],
   "source": [
    "X_train, X_test, y_train, y_test = train_test_split(X, y, test_size=0.1)\n",
    "# Создайте объект модели Ridge с указанием значения гиперпараметра alpha\n",
    "ridge = Ridge(alpha=0.5)\n",
    "\n",
    "# Обучите модель на тренировочных данных\n",
    "ridge.fit(X_train, y_train)\n",
    "\n",
    "# Получите предсказания на тестовых данных\n",
    "y_pred = ridge.predict(X_test)\n",
    "print('Mean Absolute Error:', mean_absolute_error(y_test, y_pred))\n",
    "print('Mean Squared Error:', mean_squared_error(y_test, y_pred))"
   ]
  },
  {
   "cell_type": "code",
   "execution_count": 311,
   "id": "2b22abea",
   "metadata": {},
   "outputs": [],
   "source": [
    "# предсказание результа\n",
    "y_pred_test = ridge.predict(test_full)\n"
   ]
  },
  {
   "cell_type": "code",
   "execution_count": 317,
   "id": "b83eaf11",
   "metadata": {},
   "outputs": [],
   "source": [
    "y_pred_test.to_csv(\"solution.csv\", index=False)\n",
    "\n"
   ]
  },
  {
   "cell_type": "code",
   "execution_count": 318,
   "id": "8f101388",
   "metadata": {},
   "outputs": [
    {
     "data": {
      "text/html": [
       "<a href='solution.csv' target='_blank'>solution.csv</a><br>"
      ],
      "text/plain": [
       "/Users/ar.galanin/Desktop/solution.csv"
      ]
     },
     "execution_count": 318,
     "metadata": {},
     "output_type": "execute_result"
    }
   ],
   "source": [
    "from IPython import display\n",
    "\n",
    "# Создание ссылки для скачивания файла\n",
    "display.FileLink(\"solution.csv\")"
   ]
  }
 ],
 "metadata": {
  "kernelspec": {
   "display_name": "Python 3 (ipykernel)",
   "language": "python",
   "name": "python3"
  },
  "language_info": {
   "codemirror_mode": {
    "name": "ipython",
    "version": 3
   },
   "file_extension": ".py",
   "mimetype": "text/x-python",
   "name": "python",
   "nbconvert_exporter": "python",
   "pygments_lexer": "ipython3",
   "version": "3.11.4"
  }
 },
 "nbformat": 4,
 "nbformat_minor": 5
}
